{
 "cells": [
  {
   "cell_type": "markdown",
   "id": "18859bd4-1325-40b3-a106-6f8d00f630ff",
   "metadata": {},
   "source": [
    "# PYTHON BASICS FOR DATA SCIENCE"
   ]
  },
  {
   "cell_type": "markdown",
   "id": "dce39829-c133-4da9-b65b-5e56cad2a982",
   "metadata": {},
   "source": [
    "# 1. DATA TYPES & VARIABLES"
   ]
  },
  {
   "cell_type": "code",
   "execution_count": 1,
   "id": "14d23d4f-1cf3-4d59-a6b6-8c8d10eee9e1",
   "metadata": {},
   "outputs": [
    {
     "name": "stdout",
     "output_type": "stream",
     "text": [
      "Age is <class 'int'>\n",
      "Name is <class 'str'>\n",
      "Height is <class 'float'>\n"
     ]
    }
   ],
   "source": [
    "# Numeric data types\n",
    "age = 25                  # Integer - whole numbers\n",
    "height = 5.9              # Float - decimal numbers\n",
    "complex_number = 3 + 2j   # Complex - for mathematical operations\n",
    "\n",
    "# Text data\n",
    "name = \"Data Scientist\"   # String - for text values\n",
    "\n",
    "# Boolean values\n",
    "is_valid = True           # Boolean - True/False values\n",
    "\n",
    "# Print variable types\n",
    "print(f\"Age is {type(age)}\")\n",
    "print(f\"Name is {type(name)}\")\n",
    "print(f\"Height is {type(height)}\")"
   ]
  },
  {
   "cell_type": "markdown",
   "id": "dbcbffa6-3169-4026-a317-ae65e9213ccb",
   "metadata": {},
   "source": [
    "# 2. DATA STRUCTURES"
   ]
  },
  {
   "cell_type": "code",
   "execution_count": 2,
   "id": "e300b7b7-2a86-4b00-ae8f-6401a08808cc",
   "metadata": {},
   "outputs": [
    {
     "name": "stdout",
     "output_type": "stream",
     "text": [
      "Updated scores: [87, 92, 78, 90, 88, 95]\n",
      "Average score: 88.33333333333333\n"
     ]
    }
   ],
   "source": [
    "# Lists - ordered, mutable collections (can be changed after creation)\n",
    "scores = [85, 92, 78, 90, 88]\n",
    "scores.append(95)         # Add a new score\n",
    "scores[0] = 87            # Modify the first score\n",
    "print(f\"Updated scores: {scores}\")\n",
    "print(f\"Average score: {sum(scores)/len(scores)}\")"
   ]
  },
  {
   "cell_type": "code",
   "execution_count": 3,
   "id": "689da72e-d79c-4bd3-8bfe-87b266f97b21",
   "metadata": {},
   "outputs": [
    {
     "name": "stdout",
     "output_type": "stream",
     "text": [
      "Student name: Alex\n",
      "Student is taking 3 courses\n"
     ]
    }
   ],
   "source": [
    "# Dictionaries - key-value pairs for named data\n",
    "student = {\n",
    "    'name': 'Alex',\n",
    "    'age': 22,\n",
    "    'courses': ['Data Science 101', 'Python Programming', 'Statistics']\n",
    "}\n",
    "# Access values by their keys\n",
    "print(f\"Student name: {student['name']}\")\n",
    "print(f\"Student is taking {len(student['courses'])} courses\")"
   ]
  },
  {
   "cell_type": "code",
   "execution_count": 4,
   "id": "fc94f06c-74a7-4149-93c0-3656fd3ba926",
   "metadata": {},
   "outputs": [],
   "source": [
    "# Tuples - ordered, immutable collections (cannot be changed after creation)\n",
    "dimensions = (1920, 1080)  # Screen resolution\n",
    "# dimensions[0] = 1280    # This would cause an error - tuples cannot be modified\n"
   ]
  },
  {
   "cell_type": "code",
   "execution_count": 5,
   "id": "370931e7-1746-47d5-a1a2-354866fb4508",
   "metadata": {},
   "outputs": [
    {
     "name": "stdout",
     "output_type": "stream",
     "text": [
      "Unique visitors: {'user456', 'user123', 'user789'}\n"
     ]
    }
   ],
   "source": [
    "# Sets - unordered collections of unique elements\n",
    "unique_visitors = {'user123', 'user456', 'user789', 'user123'}\n",
    "print(f\"Unique visitors: {unique_visitors}\")  # Note: Duplicates are automatically removed"
   ]
  },
  {
   "cell_type": "markdown",
   "id": "d40f46f1-9c75-48ff-af25-ed7e2e58d807",
   "metadata": {},
   "source": [
    "# 3. CONTROL FLOW & LOGIC"
   ]
  },
  {
   "cell_type": "code",
   "execution_count": 6,
   "id": "28f293b5-a769-4f26-b305-11a1e6d936c9",
   "metadata": {},
   "outputs": [
    {
     "name": "stdout",
     "output_type": "stream",
     "text": [
      "Performance: Good\n"
     ]
    }
   ],
   "source": [
    "# Conditional statements for decision-making\n",
    "def analyze_performance(score):\n",
    "    \"\"\"Categorize performance based on score\"\"\"\n",
    "    if score >= 90:\n",
    "        return \"Excellent\"\n",
    "    elif score >= 80:\n",
    "        return \"Good\"\n",
    "    elif score >= 70:\n",
    "        return \"Average\"\n",
    "    else:\n",
    "        return \"Needs improvement\"\n",
    "\n",
    "# Example use\n",
    "student_score = 85\n",
    "print(f\"Performance: {analyze_performance(student_score)}\")"
   ]
  },
  {
   "cell_type": "code",
   "execution_count": 7,
   "id": "c1ef2341-8deb-4b02-9232-9e91d4f77aaa",
   "metadata": {},
   "outputs": [
    {
     "name": "stdout",
     "output_type": "stream",
     "text": [
      "Individual analyses:\n",
      "Score 85: Good\n",
      "Score 92: Excellent\n",
      "Score 78: Average\n",
      "Score 90: Excellent\n",
      "Score 88: Good\n"
     ]
    }
   ],
   "source": [
    "# Loops for processing collections of data\n",
    "scores = [85, 92, 78, 90, 88]\n",
    "print(\"Individual analyses:\")\n",
    "for score in scores:\n",
    "    print(f\"Score {score}: {analyze_performance(score)}\")"
   ]
  },
  {
   "cell_type": "code",
   "execution_count": 8,
   "id": "12c387ca-5b4f-494c-a87f-d7003062abeb",
   "metadata": {},
   "outputs": [
    {
     "name": "stdout",
     "output_type": "stream",
     "text": [
      "Performance summary:\n",
      "Excellent: 2 students\n",
      "Good: 2 students\n",
      "Average: 1 students\n",
      "Needs improvement: 0 students\n"
     ]
    }
   ],
   "source": [
    "# Counting scores by category\n",
    "categories = {\"Excellent\": 0, \"Good\": 0, \"Average\": 0, \"Needs improvement\": 0}\n",
    "for score in scores:\n",
    "    result = analyze_performance(score)\n",
    "    categories[result] += 1\n",
    "    \n",
    "print(\"Performance summary:\")\n",
    "for category, count in categories.items():\n",
    "    print(f\"{category}: {count} students\")"
   ]
  },
  {
   "cell_type": "markdown",
   "id": "da137ea1-6cc1-4e45-9c18-695c17a61a5b",
   "metadata": {},
   "source": [
    "# 4. LIST COMPREHENSIONS"
   ]
  },
  {
   "cell_type": "code",
   "execution_count": 9,
   "id": "db300a45-82d0-4fc5-88d1-44c6c519a312",
   "metadata": {},
   "outputs": [
    {
     "name": "stdout",
     "output_type": "stream",
     "text": [
      "Squares (traditional): [1, 4, 9, 16, 25]\n"
     ]
    }
   ],
   "source": [
    "# Traditional way to square numbers\n",
    "numbers = [1, 2, 3, 4, 5]\n",
    "squares = []\n",
    "for num in numbers:\n",
    "    squares.append(num ** 2)\n",
    "print(f\"Squares (traditional): {squares}\")"
   ]
  },
  {
   "cell_type": "code",
   "execution_count": 10,
   "id": "05aaede1-ed0e-418c-90b9-9338df99a156",
   "metadata": {},
   "outputs": [
    {
     "name": "stdout",
     "output_type": "stream",
     "text": [
      "Squares (comprehension): [1, 4, 9, 16, 25]\n"
     ]
    }
   ],
   "source": [
    "# Using list comprehension - much more concise\n",
    "squares = [num ** 2 for num in numbers]\n",
    "print(f\"Squares (comprehension): {squares}\")"
   ]
  },
  {
   "cell_type": "code",
   "execution_count": 13,
   "id": "784a48a2-49b9-4922-b50f-a607ae66a2f6",
   "metadata": {},
   "outputs": [
    {
     "name": "stdout",
     "output_type": "stream",
     "text": [
      "Even squares only: [4, 16]\n"
     ]
    }
   ],
   "source": [
    "# Filtering with list comprehension\n",
    "even_squares = [num ** 2 for num in numbers if num % 2 == 0]\n",
    "print(f\"Even squares only: {even_squares}\")"
   ]
  },
  {
   "cell_type": "code",
   "execution_count": 14,
   "id": "7ff03dbb-d470-4649-8c3b-5b9853f1681e",
   "metadata": {},
   "outputs": [
    {
     "name": "stdout",
     "output_type": "stream",
     "text": [
      "Name lengths: [5, 3, 7, 5]\n"
     ]
    }
   ],
   "source": [
    "# Processing strings\n",
    "names = [\"Alice\", \"Bob\", \"Charlie\", \"David\"]\n",
    "name_lengths = [len(name) for name in names]\n",
    "print(f\"Name lengths: {name_lengths}\")"
   ]
  },
  {
   "cell_type": "code",
   "execution_count": 15,
   "id": "c3a8f70a-18dd-41c9-85d9-349b9fed09bf",
   "metadata": {},
   "outputs": [
    {
     "name": "stdout",
     "output_type": "stream",
     "text": [
      "High scorers: ['Alice', 'Bob']\n"
     ]
    }
   ],
   "source": [
    "# More complex example - extracting data\n",
    "data = [\n",
    "    {\"name\": \"Alice\", \"age\": 25, \"score\": 92},\n",
    "    {\"name\": \"Bob\", \"age\": 27, \"score\": 85},\n",
    "    {\"name\": \"Charlie\", \"age\": 22, \"score\": 78}\n",
    "]\n",
    "# Extract names of people with scores over 80\n",
    "high_scorers = [person[\"name\"] for person in data if person[\"score\"] > 80]\n",
    "print(f\"High scorers: {high_scorers}\")"
   ]
  },
  {
   "cell_type": "markdown",
   "id": "d4f574d7-c5cf-49c9-8c49-57b8bb0f3909",
   "metadata": {},
   "source": [
    "# 5. FUNCTIONS"
   ]
  },
  {
   "cell_type": "code",
   "execution_count": 16,
   "id": "13bc1b5f-3bee-4836-a79b-1b3fd53db506",
   "metadata": {},
   "outputs": [
    {
     "name": "stdout",
     "output_type": "stream",
     "text": [
      "Statistics for our data sample:\n",
      "Mean: 14.777777777777779\n",
      "Median: 14\n",
      "Range: 12\n",
      "Count: 9\n",
      "Min: 9\n",
      "Max: 21\n"
     ]
    }
   ],
   "source": [
    "def calculate_statistics(numbers):\n",
    "    \"\"\"\n",
    "    Calculate basic statistics for a list of numbers.\n",
    "    \n",
    "    Args:\n",
    "        numbers: List of numeric values\n",
    "        \n",
    "    Returns:\n",
    "        Dictionary containing mean, median, range, and count\n",
    "    \"\"\"\n",
    "    # Handle empty list case\n",
    "    if not numbers:\n",
    "        return {\"error\": \"Empty list provided\"}\n",
    "        \n",
    "    # Sort the list for median calculation\n",
    "    sorted_nums = sorted(numbers)\n",
    "    n = len(sorted_nums)\n",
    "    \n",
    "    # Calculate median properly for odd or even number of elements\n",
    "    if n % 2 == 0:\n",
    "        median = (sorted_nums[n//2 - 1] + sorted_nums[n//2]) / 2\n",
    "    else:\n",
    "        median = sorted_nums[n//2]\n",
    "    \n",
    "    # Calculate other statistics\n",
    "    mean = sum(numbers) / n\n",
    "    data_range = max(numbers) - min(numbers)\n",
    "    \n",
    "    return {\n",
    "        'mean': mean,\n",
    "        'median': median,\n",
    "        'range': data_range,\n",
    "        'count': n,\n",
    "        'min': min(numbers),\n",
    "        'max': max(numbers)\n",
    "    }\n",
    "\n",
    "# Using our function\n",
    "data_sample = [12, 18, 9, 15, 11, 20, 14, 21, 13]\n",
    "stats = calculate_statistics(data_sample)\n",
    "\n",
    "print(\"Statistics for our data sample:\")\n",
    "for key, value in stats.items():\n",
    "    print(f\"{key.capitalize()}: {value}\")"
   ]
  },
  {
   "cell_type": "code",
   "execution_count": 17,
   "id": "2418170e-ee45-4a1b-8190-d6af4c5857b7",
   "metadata": {},
   "outputs": [
    {
     "name": "stdout",
     "output_type": "stream",
     "text": [
      "\n",
      "Statistics for test scores:\n",
      "Mean: 86.6\n",
      "Median: 88\n",
      "Range: 14\n",
      "Count: 5\n",
      "Min: 78\n",
      "Max: 92\n"
     ]
    }
   ],
   "source": [
    "# Using the function again with different data\n",
    "another_sample = [92, 85, 78, 90, 88]\n",
    "print(\"\\nStatistics for test scores:\")\n",
    "for key, value in calculate_statistics(another_sample).items():\n",
    "    print(f\"{key.capitalize()}: {value}\")"
   ]
  },
  {
   "cell_type": "markdown",
   "id": "55049739-b643-4ae3-a0d4-92d3fda24897",
   "metadata": {},
   "source": [
    "# 6. Working with Files"
   ]
  },
  {
   "cell_type": "code",
   "execution_count": 18,
   "id": "0e9a44eb-69ce-4781-be38-0254c9eaaa00",
   "metadata": {},
   "outputs": [
    {
     "name": "stdout",
     "output_type": "stream",
     "text": [
      "Sample CSV file created: student_data.csv\n"
     ]
    }
   ],
   "source": [
    "import csv\n",
    "import os\n",
    "\n",
    "# First, let's create some sample data\n",
    "def create_sample_csv():\n",
    "    \"\"\"Create a sample CSV file with student data\"\"\"\n",
    "    with open('student_data.csv', 'w', newline='') as file:\n",
    "        writer = csv.writer(file)\n",
    "        writer.writerow(['Name', 'Age', 'Score'])  # Header row\n",
    "        writer.writerow(['Alice', 24, 92])\n",
    "        writer.writerow(['Bob', 27, 85])\n",
    "        writer.writerow(['Charlie', 22, 78])\n",
    "        writer.writerow(['Diana', 25, 95])\n",
    "        writer.writerow(['Evan', 23, 88])\n",
    "    \n",
    "    print(\"Sample CSV file created: student_data.csv\")\n",
    "\n",
    "# Create our sample file\n",
    "create_sample_csv()"
   ]
  },
  {
   "cell_type": "code",
   "execution_count": 19,
   "id": "70ccc651-b349-40cd-9ea2-44773614537e",
   "metadata": {},
   "outputs": [
    {
     "name": "stdout",
     "output_type": "stream",
     "text": [
      "Analyzing student_data.csv...\n",
      "Columns: ['Name', 'Age', 'Score']\n",
      "Alice, aged 24, scored 92\n",
      "Bob, aged 27, scored 85\n",
      "Charlie, aged 22, scored 78\n",
      "Diana, aged 25, scored 95\n",
      "Evan, aged 23, scored 88\n"
     ]
    }
   ],
   "source": [
    "# Now, let's read and analyze the data\n",
    "def analyze_csv_data(filename):\n",
    "    \"\"\"Read and analyze data from a CSV file\"\"\"\n",
    "    if not os.path.exists(filename):\n",
    "        return {\"error\": f\"File {filename} not found\"}\n",
    "    \n",
    "    # Initialize storage for our data\n",
    "    ages = []\n",
    "    scores = []\n",
    "    \n",
    "    # Read the file\n",
    "    with open(filename, 'r') as file:\n",
    "        reader = csv.reader(file)\n",
    "        header = next(reader)  # Skip and store the header row\n",
    "        \n",
    "        print(f\"Analyzing {filename}...\")\n",
    "        print(f\"Columns: {header}\")\n",
    "        \n",
    "        # Process each data row\n",
    "        for row in reader:\n",
    "            name, age, score = row\n",
    "            ages.append(int(age))\n",
    "            scores.append(int(score))\n",
    "            print(f\"{name}, aged {age}, scored {score}\")\n",
    "    \n",
    "    # Return analysis results\n",
    "    return {\n",
    "        \"count\": len(ages),\n",
    "        \"avg_age\": sum(ages) / len(ages),\n",
    "        \"avg_score\": sum(scores) / len(scores),\n",
    "        \"min_score\": min(scores),\n",
    "        \"max_score\": max(scores)\n",
    "    }\n",
    "\n",
    "# Analyze our sample file\n",
    "results = analyze_csv_data('student_data.csv')"
   ]
  },
  {
   "cell_type": "code",
   "execution_count": 20,
   "id": "17d60384-3fae-4051-81e5-b08b5538fa44",
   "metadata": {},
   "outputs": [
    {
     "name": "stdout",
     "output_type": "stream",
     "text": [
      "\n",
      "Analysis results:\n",
      "count: 5\n",
      "avg_age: 24.20\n",
      "avg_score: 87.60\n",
      "min_score: 78\n",
      "max_score: 95\n"
     ]
    }
   ],
   "source": [
    "print(\"\\nAnalysis results:\")\n",
    "for key, value in results.items():\n",
    "    if isinstance(value, float):\n",
    "        print(f\"{key}: {value:.2f}\")\n",
    "    else:\n",
    "        print(f\"{key}: {value}\")"
   ]
  },
  {
   "cell_type": "markdown",
   "id": "a89dd4de-a53f-4474-9bb6-536ea6098de5",
   "metadata": {},
   "source": [
    "# 7. Error Handling"
   ]
  },
  {
   "cell_type": "code",
   "execution_count": 21,
   "id": "77a80da3-aa56-4ca1-8e40-4d11bc415fd1",
   "metadata": {},
   "outputs": [
    {
     "name": "stdout",
     "output_type": "stream",
     "text": [
      "Valid data:\n",
      "{'mean': 30.0, 'max': 50.0, 'min': 10.0, 'range': 40.0}\n",
      "\n",
      "Empty list:\n",
      "{'error': 'Value error: Cannot analyze empty list'}\n",
      "\n",
      "Mixed data types:\n",
      "{'error': \"Value error: could not convert string to float: 'thirty'\"}\n",
      "\n",
      "Not a list:\n",
      "{'error': 'Type error: Input must be a list'}\n"
     ]
    }
   ],
   "source": [
    "def safe_analyze_data(data):\n",
    "    \"\"\"Safely analyze a list of values with error handling.\"\"\"\n",
    "    results = {}\n",
    "    \n",
    "    # Check input type\n",
    "    try:\n",
    "        if not isinstance(data, list):\n",
    "            raise TypeError(\"Input must be a list\")\n",
    "        \n",
    "        # Check if list is empty\n",
    "        if not data:\n",
    "            raise ValueError(\"Cannot analyze empty list\")\n",
    "            \n",
    "        # Try to convert all items to numbers\n",
    "        numeric_data = []\n",
    "        for item in data:\n",
    "            numeric_data.append(float(item))\n",
    "        \n",
    "        # Calculate statistics\n",
    "        results['mean'] = sum(numeric_data) / len(numeric_data)\n",
    "        results['max'] = max(numeric_data)\n",
    "        results['min'] = min(numeric_data)\n",
    "        results['range'] = results['max'] - results['min']\n",
    "        \n",
    "        return results\n",
    "        \n",
    "    except TypeError as e:\n",
    "        return {\"error\": f\"Type error: {str(e)}\"}\n",
    "    except ValueError as e:\n",
    "        return {\"error\": f\"Value error: {str(e)}\"}\n",
    "    except Exception as e:\n",
    "        return {\"error\": f\"Unexpected error: {str(e)}\"}\n",
    "\n",
    "# Test with various inputs\n",
    "print(\"Valid data:\")\n",
    "print(safe_analyze_data([10, 20, 30, 40, 50]))\n",
    "\n",
    "print(\"\\nEmpty list:\")\n",
    "print(safe_analyze_data([]))\n",
    "\n",
    "print(\"\\nMixed data types:\")\n",
    "print(safe_analyze_data([10, 20, \"thirty\", 40, 50]))\n",
    "\n",
    "print(\"\\nNot a list:\")\n",
    "print(safe_analyze_data(\"this is a string\"))"
   ]
  },
  {
   "cell_type": "code",
   "execution_count": null,
   "id": "e7d4c3dc-bd46-48ba-8b1d-32337225dc79",
   "metadata": {},
   "outputs": [],
   "source": []
  }
 ],
 "metadata": {
  "kernelspec": {
   "display_name": "Python 3 (ipykernel)",
   "language": "python",
   "name": "python3"
  },
  "language_info": {
   "codemirror_mode": {
    "name": "ipython",
    "version": 3
   },
   "file_extension": ".py",
   "mimetype": "text/x-python",
   "name": "python",
   "nbconvert_exporter": "python",
   "pygments_lexer": "ipython3",
   "version": "3.12.7"
  }
 },
 "nbformat": 4,
 "nbformat_minor": 5
}
